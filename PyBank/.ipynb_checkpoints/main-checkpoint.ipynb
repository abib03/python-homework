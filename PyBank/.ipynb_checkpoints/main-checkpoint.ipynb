{
 "cells": [
  {
   "cell_type": "code",
   "execution_count": 40,
   "id": "bd85b20d-0046-4293-8d50-3b6ebcad3ee3",
   "metadata": {},
   "outputs": [
    {
     "name": "stdout",
     "output_type": "stream",
     "text": [
      "Financial Analysis\n",
      "-------------------------\n",
      "Total Months: 86\n",
      "Total: $38382578\n",
      "Average Change: $-2315.12\n",
      "Greatest Increase in Profits: Feb-2012 ($1926159)\n",
      "Greatest Decrease in Profits: Sep-2013 ($-2196167)\n",
      "\n"
     ]
    }
   ],
   "source": [
    "from pathlib import Path\n",
    "import csv\n",
    "\n",
    "#Initialize global variables\n",
    "profit_loss = []\n",
    "prev = None\n",
    "months = 0\n",
    "total_amount = 0\n",
    "total_delta = 0\n",
    "max_profit_month = \"\"\n",
    "max_profit_amount = 0\n",
    "max_loss_month = \"\"\n",
    "max_loss_amount = 0\n",
    "delta = 0\n",
    "#Open CSV file as read-only\n",
    "csvpath = Path('../PyBank/Resources/budget_data.csv')\n",
    "with open(csvpath, 'r') as csvfile:\n",
    "        csvreader = csv.reader(csvfile, delimiter =',')\n",
    "        header = next(csvreader) #Skip header \n",
    "#Begin my profit_loss calculations\n",
    "        for row in csvreader:\n",
    "            profit_losses = int(row[1])\n",
    "            if prev != None:\n",
    "                delta = profit_losses - prev\n",
    "                total_delta = total_delta + delta\n",
    "            total_amount = total_amount + profit_losses\n",
    "           #Add total Months\n",
    "            months = months +1\n",
    "            if delta > max_profit_amount:\n",
    "                    max_profit_month = row[0]\n",
    "                    max_profit_amount = delta\n",
    "            elif delta < max_loss_amount:\n",
    "                    max_loss_month = row[0]\n",
    "                    max_loss_amount = delta\n",
    "            prev = profit_losses \n",
    "   \n",
    "#Generate analysis \n",
    "profit_loss = (\n",
    "    f'Financial Analysis\\n'\n",
    "    f'-------------------------\\n'\n",
    "    f'Total Months: {months}\\n'\n",
    "    f'Total: ${total_amount}\\n'\n",
    "    f'Average Change: ${round(total_delta/ (months -1), 2)}\\n'\n",
    "    f'Greatest Increase in Profits: {max_profit_month} (${max_profit_amount})\\n'\n",
    "    f'Greatest Decrease in Profits: {max_loss_month} (${max_loss_amount})\\n'\n",
    ")\n",
    "print(profit_loss)\n",
    "\n",
    "output_path = \"output.txt\"\n",
    "with open(output_path, 'w') as file:\n",
    "    file.write(profit_loss)\n",
    "  \n"
   ]
  },
  {
   "cell_type": "code",
   "execution_count": null,
   "id": "6cc0c1f2-9d9c-4003-80c8-8314b3d3dafc",
   "metadata": {},
   "outputs": [],
   "source": []
  }
 ],
 "metadata": {
  "kernelspec": {
   "display_name": "Python 3 (ipykernel)",
   "language": "python",
   "name": "python3"
  },
  "language_info": {
   "codemirror_mode": {
    "name": "ipython",
    "version": 3
   },
   "file_extension": ".py",
   "mimetype": "text/x-python",
   "name": "python",
   "nbconvert_exporter": "python",
   "pygments_lexer": "ipython3",
   "version": "3.9.7"
  }
 },
 "nbformat": 4,
 "nbformat_minor": 5
}
